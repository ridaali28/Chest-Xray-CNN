{
  "nbformat": 4,
  "nbformat_minor": 0,
  "metadata": {
    "colab": {
      "provenance": [],
      "authorship_tag": "ABX9TyNoRweasz39PRvShVgwI91p",
      "include_colab_link": true
    },
    "kernelspec": {
      "name": "python3",
      "display_name": "Python 3"
    },
    "language_info": {
      "name": "python"
    }
  },
  "cells": [
    {
      "cell_type": "markdown",
      "metadata": {
        "id": "view-in-github",
        "colab_type": "text"
      },
      "source": [
        "<a href=\"https://colab.research.google.com/github/ridaali28/Chest-Xray-CNN/blob/main/Chest_XRAY.ipynb\" target=\"_parent\"><img src=\"https://colab.research.google.com/assets/colab-badge.svg\" alt=\"Open In Colab\"/></a>"
      ]
    },
    {
      "cell_type": "code",
      "execution_count": 1,
      "metadata": {
        "id": "Pe4Ja5s5c7Bz"
      },
      "outputs": [],
      "source": [
        "!mkdir -p  ~/.kaggle\n",
        "!cp kaggle.json ~/.kaggle/\n",
        "\n",
        "#permissions\n",
        "!chmod 600 ~/.kaggle//kaggle.json"
      ]
    },
    {
      "cell_type": "code",
      "source": [
        "!kaggle datasets download -d tolgadincer/labeled-chest-xray-images"
      ],
      "metadata": {
        "colab": {
          "base_uri": "https://localhost:8080/"
        },
        "id": "3K54BmzXdQpz",
        "outputId": "dea97058-0ded-4bcc-f7ef-345d97047c9e"
      },
      "execution_count": 2,
      "outputs": [
        {
          "output_type": "stream",
          "name": "stdout",
          "text": [
            "Downloading labeled-chest-xray-images.zip to /content\n",
            " 99% 1.16G/1.17G [00:14<00:00, 91.0MB/s]\n",
            "100% 1.17G/1.17G [00:14<00:00, 88.9MB/s]\n"
          ]
        }
      ]
    },
    {
      "cell_type": "code",
      "source": [
        "from zipfile import ZipFile\n",
        "path=\"/content/labeled-chest-xray-images.zip\"\n",
        "with ZipFile(path,'r') as zip:\n",
        "  zip.extractall()\n",
        "  print(\"done\")"
      ],
      "metadata": {
        "colab": {
          "base_uri": "https://localhost:8080/"
        },
        "id": "sAynT1Ccdg4X",
        "outputId": "30c46f8b-4b4f-4c29-eab9-1ef63fc9a168"
      },
      "execution_count": 3,
      "outputs": [
        {
          "output_type": "stream",
          "name": "stdout",
          "text": [
            "done\n"
          ]
        }
      ]
    },
    {
      "cell_type": "code",
      "source": [
        "import numpy as np\n",
        "import matplotlib.pyplot as plt\n",
        "import os\n",
        "from PIL import Image\n",
        "import random\n",
        "import cv2"
      ],
      "metadata": {
        "id": "FO4Zizzfd8cn"
      },
      "execution_count": 4,
      "outputs": []
    },
    {
      "cell_type": "code",
      "source": [
        "dir=r\"/content/chest_xray\"\n",
        "category=[\"NORMAL\",\"PNEUMONIA\"]\n",
        "folders=[\"test\",\"train\"]\n",
        "img_size=50\n",
        "train_data=[]\n",
        "test_data=[]\n",
        "\n",
        "for fold in folders:\n",
        " folder=os.path.join(dir,fold)\n",
        " for cat in category:\n",
        "  folder1=os.path.join(folder,cat)\n",
        "  label= category.index(cat)\n",
        "  for img in os.listdir(folder1):\n",
        "   img_path=os.path.join(folder1,img)\n",
        "   img=cv2.imread(img_path)\n",
        "  # img_arr= cv2.cvtColor(img, cv2.COLOR_BGR2GRAY)\n",
        "\n",
        "   imgg=cv2.resize(img,(img_size,img_size))\n",
        "   image = cv2.cvtColor(imgg, cv2.COLOR_BGR2GRAY )\n",
        "\n",
        "   if fold == \"train\":\n",
        "    train_data.append([image,label])\n",
        "   else:\n",
        "    test_data.append([image,label])"
      ],
      "metadata": {
        "id": "Fz0l2bEZeVq8"
      },
      "execution_count": 5,
      "outputs": []
    },
    {
      "cell_type": "code",
      "source": [
        "len(train_data) , len(test_data)"
      ],
      "metadata": {
        "colab": {
          "base_uri": "https://localhost:8080/"
        },
        "id": "eSm8Y4o4kY7T",
        "outputId": "6307ac0b-03fa-4537-9e76-09a334f56351"
      },
      "execution_count": 6,
      "outputs": [
        {
          "output_type": "execute_result",
          "data": {
            "text/plain": [
              "(5232, 624)"
            ]
          },
          "metadata": {},
          "execution_count": 6
        }
      ]
    },
    {
      "cell_type": "code",
      "source": [],
      "metadata": {
        "id": "Z0b-Vv0j-24W"
      },
      "execution_count": null,
      "outputs": []
    },
    {
      "cell_type": "code",
      "source": [
        "random.shuffle(train_data)\n",
        "x_train=[]\n",
        "y_train=[]\n",
        "for feature,label in train_data:\n",
        "  x_train.append(feature)\n",
        "  y_train.append(label)\n",
        "\n",
        "\n",
        "\n",
        "#for test\n",
        "random.shuffle(test_data)\n",
        "x_test=[]\n",
        "y_test=[]\n",
        "for feature,label in test_data:\n",
        "  x_test.append(feature)\n",
        "  y_test.append(label)\n",
        "\n",
        "test_x= np.array(x_test)\n",
        "test_y=np.array(y_test)\n",
        "\n",
        "\n",
        "x_test_scaled= test_x/255\n"
      ],
      "metadata": {
        "id": "zeY-I-kIkY4V"
      },
      "execution_count": 7,
      "outputs": []
    },
    {
      "cell_type": "code",
      "source": [
        "X= np.array(x_train)\n",
        "Y=np.array(y_train)\n",
        "X.shape"
      ],
      "metadata": {
        "colab": {
          "base_uri": "https://localhost:8080/"
        },
        "id": "3mETzoL3p-cG",
        "outputId": "f83d8271-79c9-42c8-a43a-750234c83974"
      },
      "execution_count": 8,
      "outputs": [
        {
          "output_type": "execute_result",
          "data": {
            "text/plain": [
              "(5232, 50, 50)"
            ]
          },
          "metadata": {},
          "execution_count": 8
        }
      ]
    },
    {
      "cell_type": "code",
      "source": [
        "plt.matshow(X[2]) , Y[2]"
      ],
      "metadata": {
        "colab": {
          "base_uri": "https://localhost:8080/",
          "height": 454
        },
        "id": "ypMZU59exMWy",
        "outputId": "0629ac3a-2393-4db8-8a17-c578d2e47ae0"
      },
      "execution_count": 9,
      "outputs": [
        {
          "output_type": "execute_result",
          "data": {
            "text/plain": [
              "(<matplotlib.image.AxesImage at 0x7d762c406170>, 1)"
            ]
          },
          "metadata": {},
          "execution_count": 9
        },
        {
          "output_type": "display_data",
          "data": {
            "text/plain": [
              "<Figure size 480x480 with 1 Axes>"
            ],
            "image/png": "[encoded data removed]"
          },
          "metadata": {}
        }
      ]
    },
    {
      "cell_type": "code",
      "source": [
        "Y[:5] , X.size , X.shape"
      ],
      "metadata": {
        "colab": {
          "base_uri": "https://localhost:8080/"
        },
        "id": "5IRRDKqHyeH3",
        "outputId": "1710584f-14f5-4963-bad3-a1e6dc2ae05c"
      },
      "execution_count": 10,
      "outputs": [
        {
          "output_type": "execute_result",
          "data": {
            "text/plain": [
              "(array([0, 1, 1, 1, 0]), 13080000, (5232, 50, 50))"
            ]
          },
          "metadata": {},
          "execution_count": 10
        }
      ]
    },
    {
      "cell_type": "code",
      "source": [
        "X_scaled= X/255\n",
        "X_scaled[0]"
      ],
      "metadata": {
        "colab": {
          "base_uri": "https://localhost:8080/"
        },
        "id": "RbiD2W5e2QUg",
        "outputId": "a3a7d5b0-b31c-416d-d019-0f3860aa09a0"
      },
      "execution_count": 11,
      "outputs": [
        {
          "output_type": "execute_result",
          "data": {
            "text/plain": [
              "array([[0.03921569, 0.03137255, 0.03529412, ..., 0.03921569, 0.05490196,\n",
              "        0.05490196],\n",
              "       [0.        , 0.01568627, 0.        , ..., 0.01568627, 0.02352941,\n",
              "        0.04705882],\n",
              "       [0.        , 0.        , 0.        , ..., 0.02352941, 0.03529412,\n",
              "        0.02745098],\n",
              "       ...,\n",
              "       [0.        , 0.        , 0.        , ..., 0.60784314, 0.44313725,\n",
              "        0.        ],\n",
              "       [0.        , 0.        , 0.        , ..., 0.58431373, 0.45490196,\n",
              "        0.        ],\n",
              "       [0.        , 0.        , 0.        , ..., 0.11372549, 0.00392157,\n",
              "        0.        ]])"
            ]
          },
          "metadata": {},
          "execution_count": 11
        }
      ]
    },
    {
      "cell_type": "code",
      "source": [
        "import tensorflow as tf\n",
        "from tensorflow.keras import layers, models\n",
        "import pickle"
      ],
      "metadata": {
        "id": "lC8f6luE2wkM"
      },
      "execution_count": 14,
      "outputs": []
    },
    {
      "cell_type": "code",
      "source": [
        "data_augmentation = tf.keras.Sequential([\n",
        "  layers.RandomFlip(\"horizontal_and_vertical\"),\n",
        "  layers.RandomRotation(0.2),\n",
        "])"
      ],
      "metadata": {
        "id": "mb0bBpB1-9qv"
      },
      "execution_count": 16,
      "outputs": []
    },
    {
      "cell_type": "code",
      "source": [
        "from keras.api._v2.keras import activations\n",
        "cnn = models.Sequential([\n",
        "    #data_augmentation,\n",
        "    layers.Conv2D(filters=20, kernel_size=(3,3), activation=\"relu\", input_shape=(50,50,1)),\n",
        "    layers.MaxPooling2D((2,2)),\n",
        "    layers.Dropout(.5),\n",
        "\n",
        "    layers.Conv2D(filters=64, kernel_size=(3,3), activation=\"relu\"),\n",
        "    layers.MaxPooling2D((2,2)),\n",
        "    layers.Dropout(.5),\n",
        "\n",
        "    layers.Conv2D(filters=64, kernel_size=(3,3), activation=\"relu\"),\n",
        "    layers.MaxPooling2D((2,2)),\n",
        "    layers.Dropout(.5),\n",
        "\n",
        "    layers.Conv2D(filters=64, kernel_size=(3,3), activation=\"relu\"),\n",
        "    layers.MaxPooling2D((2,2)),\n",
        "    layers.Dropout(.5),\n",
        "\n",
        "    layers.Flatten(),\n",
        "    layers.Dense(64, activation=\"relu\"),\n",
        "    layers.Dense(2, activation=\"softmax\")\n",
        "\n",
        "])\n",
        "\n",
        "cnn.compile(optimizer=\"adam\",\n",
        "            loss=\"sparse_categorical_crossentropy\",\n",
        "            metrics= [\"accuracy\"])"
      ],
      "metadata": {
        "id": "3sB6QV0jttON"
      },
      "execution_count": 19,
      "outputs": []
    },
    {
      "cell_type": "code",
      "source": [
        "cnn.fit(X_scaled,Y,epochs=15,batch_size=32)"
      ],
      "metadata": {
        "colab": {
          "base_uri": "https://localhost:8080/"
        },
        "id": "tGTbGuvpt4vg",
        "outputId": "43d65a42-b2ca-45f2-e618-8dad2793e0da"
      },
      "execution_count": 29,
      "outputs": [
        {
          "output_type": "stream",
          "name": "stdout",
          "text": [
            "Epoch 1/15\n",
            "164/164 [==============================] - 19s 115ms/step - loss: 0.1305 - accuracy: 0.9499\n",
            "Epoch 2/15\n",
            "164/164 [==============================] - 19s 115ms/step - loss: 0.1438 - accuracy: 0.9463\n",
            "Epoch 3/15\n",
            "164/164 [==============================] - 17s 106ms/step - loss: 0.1287 - accuracy: 0.9520\n",
            "Epoch 4/15\n",
            "164/164 [==============================] - 17s 106ms/step - loss: 0.1327 - accuracy: 0.9524\n",
            "Epoch 5/15\n",
            "164/164 [==============================] - 19s 115ms/step - loss: 0.1351 - accuracy: 0.9455\n",
            "Epoch 6/15\n",
            "164/164 [==============================] - 17s 106ms/step - loss: 0.1403 - accuracy: 0.9442\n",
            "Epoch 7/15\n",
            "164/164 [==============================] - 18s 111ms/step - loss: 0.1276 - accuracy: 0.9518\n",
            "Epoch 8/15\n",
            "164/164 [==============================] - 18s 110ms/step - loss: 0.1333 - accuracy: 0.9480\n",
            "Epoch 9/15\n",
            "164/164 [==============================] - 17s 106ms/step - loss: 0.1251 - accuracy: 0.9555\n",
            "Epoch 10/15\n",
            "164/164 [==============================] - 19s 115ms/step - loss: 0.1154 - accuracy: 0.9580\n",
            "Epoch 11/15\n",
            "164/164 [==============================] - 17s 106ms/step - loss: 0.1279 - accuracy: 0.9507\n",
            "Epoch 12/15\n",
            "164/164 [==============================] - 19s 116ms/step - loss: 0.1218 - accuracy: 0.9536\n",
            "Epoch 13/15\n",
            "164/164 [==============================] - 19s 116ms/step - loss: 0.1143 - accuracy: 0.9589\n",
            "Epoch 14/15\n",
            "164/164 [==============================] - 18s 107ms/step - loss: 0.1184 - accuracy: 0.9557\n",
            "Epoch 15/15\n",
            "164/164 [==============================] - 20s 125ms/step - loss: 0.1099 - accuracy: 0.9574\n"
          ]
        },
        {
          "output_type": "execute_result",
          "data": {
            "text/plain": [
              "<keras.callbacks.History at 0x7d759b26ffd0>"
            ]
          },
          "metadata": {},
          "execution_count": 29
        }
      ]
    },
    {
      "cell_type": "code",
      "source": [
        "pickle.dump(cnn, open(\"x_ray.pkl\", \"wb\"))"
      ],
      "metadata": {
        "id": "yY1swPM4HoAV"
      },
      "execution_count": 30,
      "outputs": []
    },
    {
      "cell_type": "code",
      "source": [
        "import matplotlib.pyplot as plt\n",
        "predict=cnn.predict(x_test_scaled,batch_size=32)\n"
      ],
      "metadata": {
        "colab": {
          "base_uri": "https://localhost:8080/"
        },
        "id": "ph1xpCxpvBSS",
        "outputId": "7955c49d-ea0e-4ef1-cb1b-bef7d3375b02"
      },
      "execution_count": 31,
      "outputs": [
        {
          "output_type": "stream",
          "name": "stdout",
          "text": [
            "20/20 [==============================] - 1s 39ms/step\n"
          ]
        }
      ]
    },
    {
      "cell_type": "code",
      "source": [
        "img= \"/content/pneumonia.jpg\"\n",
        "\n",
        "img_r= cv2.imread(img)\n",
        "imgg=cv2.resize(img_r,(50,50))\n",
        "image = cv2.cvtColor(imgg, cv2.COLOR_BGR2GRAY )\n",
        "\n",
        "plt.matshow(image)\n",
        "img_np= np.array(image)\n",
        "image_s= img_np/255\n",
        "\n",
        "\n",
        "img_final=image_s.reshape(1,50,50)\n",
        "img_final.shape\n",
        "np.argmax(cnn.predict(img_final,batch_size=32))"
      ],
      "metadata": {
        "colab": {
          "base_uri": "https://localhost:8080/",
          "height": 472
        },
        "id": "OV5Q14G-T7uO",
        "outputId": "d6db4772-c211-4b0d-879e-a266e3716c54"
      },
      "execution_count": 32,
      "outputs": [
        {
          "output_type": "stream",
          "name": "stdout",
          "text": [
            "1/1 [==============================] - 0s 32ms/step\n"
          ]
        },
        {
          "output_type": "execute_result",
          "data": {
            "text/plain": [
              "1"
            ]
          },
          "metadata": {},
          "execution_count": 32
        },
        {
          "output_type": "display_data",
          "data": {
            "text/plain": [
              "<Figure size 480x480 with 1 Axes>"
            ],
            "image/png": "[encoded data removed]"
          },
          "metadata": {}
        }
      ]
    },
    {
      "cell_type": "code",
      "source": [
        "cnn.evaluate(x_test_scaled,test_y)"
      ],
      "metadata": {
        "colab": {
          "base_uri": "https://localhost:8080/"
        },
        "id": "vxKSNavHwPH9",
        "outputId": "7f068a87-9b8a-4dc4-e3a4-df7ecdfae517"
      },
      "execution_count": 33,
      "outputs": [
        {
          "output_type": "stream",
          "name": "stdout",
          "text": [
            "20/20 [==============================] - 1s 26ms/step - loss: 0.2290 - accuracy: 0.9087\n"
          ]
        },
        {
          "output_type": "execute_result",
          "data": {
            "text/plain": [
              "[0.22904828190803528, 0.9086538553237915]"
            ]
          },
          "metadata": {},
          "execution_count": 33
        }
      ]
    },
    {
      "cell_type": "code",
      "source": [
        "predicts = [np.argmax (i) for i in predict]\n",
        "predicts[:5] , test_y[:5]\n",
        "#len(predicts), len(Y)"
      ],
      "metadata": {
        "colab": {
          "base_uri": "https://localhost:8080/"
        },
        "id": "SbRE4nXgDCDU",
        "outputId": "c4c3c241-1ddc-4779-98de-3565f3007924"
      },
      "execution_count": 34,
      "outputs": [
        {
          "output_type": "execute_result",
          "data": {
            "text/plain": [
              "([1, 0, 0, 1, 0], array([1, 0, 0, 1, 0]))"
            ]
          },
          "metadata": {},
          "execution_count": 34
        }
      ]
    },
    {
      "cell_type": "code",
      "source": [
        "cm= tf.math.confusion_matrix(labels=test_y,predictions=predicts)\n",
        "cm"
      ],
      "metadata": {
        "colab": {
          "base_uri": "https://localhost:8080/"
        },
        "id": "u9vTu7qOPzNg",
        "outputId": "f21ff0f7-d30d-4420-a121-5c8dbfcdd659"
      },
      "execution_count": 35,
      "outputs": [
        {
          "output_type": "execute_result",
          "data": {
            "text/plain": [
              "<tf.Tensor: shape=(2, 2), dtype=int32, numpy=\n",
              "array([[187,  47],\n",
              "       [ 10, 380]], dtype=int32)>"
            ]
          },
          "metadata": {},
          "execution_count": 35
        }
      ]
    },
    {
      "cell_type": "code",
      "source": [
        "import seaborn as sns\n",
        "sns.heatmap(cm ,annot=True, fmt=\"d\")"
      ],
      "metadata": {
        "colab": {
          "base_uri": "https://localhost:8080/",
          "height": 447
        },
        "id": "KimJGKBpQ-Mc",
        "outputId": "a14c3056-d1f2-4803-8f28-ab730a244bbe"
      },
      "execution_count": 36,
      "outputs": [
        {
          "output_type": "execute_result",
          "data": {
            "text/plain": [
              "<Axes: >"
            ]
          },
          "metadata": {},
          "execution_count": 36
        },
        {
          "output_type": "display_data",
          "data": {
            "text/plain": [
              "<Figure size 640x480 with 2 Axes>"
            ],
            "image/png": "[encoded data removed]"
          },
          "metadata": {}
        }
      ]
    }
  ]
}